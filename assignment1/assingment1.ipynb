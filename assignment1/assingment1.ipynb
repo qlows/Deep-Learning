{
  "nbformat": 4,
  "nbformat_minor": 0,
  "metadata": {
    "colab": {
      "provenance": []
    },
    "kernelspec": {
      "name": "python3",
      "display_name": "Python 3"
    },
    "language_info": {
      "name": "python"
    }
  },
  "cells": [
    {
      "cell_type": "markdown",
      "source": [
        "# Umit Kilinc 101232721\n",
        "# Assignment 1"
      ],
      "metadata": {
        "id": "RaB-mKMfDe7Y"
      }
    },
    {
      "cell_type": "markdown",
      "source": [
        "0: T-shirt/top\n",
        "\n",
        "1: Trouser\n",
        "\n",
        "2: Pullover\n",
        "\n",
        "3: Dress\n",
        "\n",
        "4: Coat\n",
        "\n",
        "5: Sandal\n",
        "\n",
        "6: Shirt\n",
        "\n",
        "7: Sneaker\n",
        "\n",
        "8: Bag\n",
        "\n",
        "9: Ankle boot"
      ],
      "metadata": {
        "id": "LiwWQEk_Dd2O"
      }
    },
    {
      "cell_type": "code",
      "execution_count": 51,
      "metadata": {
        "id": "ksvCDEQw7iul"
      },
      "outputs": [],
      "source": [
        "from keras.datasets import fashion_mnist\n",
        "import matplotlib.pyplot as plt\n",
        "import tensorflow as tf"
      ]
    },
    {
      "cell_type": "code",
      "source": [
        "(train_images, train_labels), (test_images, test_labels) = fashion_mnist.load_data()"
      ],
      "metadata": {
        "id": "t8aMp2ga7wiE"
      },
      "execution_count": 116,
      "outputs": []
    },
    {
      "cell_type": "markdown",
      "source": [
        "1.\tWhat are the dimensions of train_images, train_labels, test_images, and test_labels?"
      ],
      "metadata": {
        "id": "mUVYpuWh98bz"
      }
    },
    {
      "cell_type": "code",
      "source": [
        "train_images.shape"
      ],
      "metadata": {
        "colab": {
          "base_uri": "https://localhost:8080/"
        },
        "id": "K5ZKH-py76wm",
        "outputId": "c29bf0e7-1be3-4ddb-afc9-f227e32ae3e4"
      },
      "execution_count": null,
      "outputs": [
        {
          "output_type": "execute_result",
          "data": {
            "text/plain": [
              "(60000, 28, 28)"
            ]
          },
          "metadata": {},
          "execution_count": 4
        }
      ]
    },
    {
      "cell_type": "code",
      "source": [
        "train_labels.shape"
      ],
      "metadata": {
        "colab": {
          "base_uri": "https://localhost:8080/"
        },
        "id": "xCBQ3fHB9vug",
        "outputId": "27e44a62-1930-4e98-bd0f-502aa591366a"
      },
      "execution_count": null,
      "outputs": [
        {
          "output_type": "execute_result",
          "data": {
            "text/plain": [
              "(60000,)"
            ]
          },
          "metadata": {},
          "execution_count": 5
        }
      ]
    },
    {
      "cell_type": "code",
      "source": [
        "test_images.shape"
      ],
      "metadata": {
        "colab": {
          "base_uri": "https://localhost:8080/"
        },
        "id": "F21OPa5s-RWp",
        "outputId": "3dd0092a-a853-4415-9a10-78eca441bda4"
      },
      "execution_count": null,
      "outputs": [
        {
          "output_type": "execute_result",
          "data": {
            "text/plain": [
              "(10000, 28, 28)"
            ]
          },
          "metadata": {},
          "execution_count": 6
        }
      ]
    },
    {
      "cell_type": "code",
      "source": [
        "test_labels.shape"
      ],
      "metadata": {
        "colab": {
          "base_uri": "https://localhost:8080/"
        },
        "id": "lXDs7JSU-GjT",
        "outputId": "7135cd29-a81c-4f90-993a-36e92de4daa8"
      },
      "execution_count": null,
      "outputs": [
        {
          "output_type": "execute_result",
          "data": {
            "text/plain": [
              "(10000,)"
            ]
          },
          "metadata": {},
          "execution_count": 7
        }
      ]
    },
    {
      "cell_type": "markdown",
      "source": [
        "2.\tWhat are the lengths of train_labels and test_labels?"
      ],
      "metadata": {
        "id": "ukwf69Q0-TUY"
      }
    },
    {
      "cell_type": "code",
      "source": [
        "len(train_labels)"
      ],
      "metadata": {
        "colab": {
          "base_uri": "https://localhost:8080/"
        },
        "id": "J10kmceP-V-L",
        "outputId": "511f1774-d9ca-4dea-e3e7-2cd4ba577d93"
      },
      "execution_count": null,
      "outputs": [
        {
          "output_type": "execute_result",
          "data": {
            "text/plain": [
              "60000"
            ]
          },
          "metadata": {},
          "execution_count": 8
        }
      ]
    },
    {
      "cell_type": "code",
      "source": [
        "len(test_labels)"
      ],
      "metadata": {
        "colab": {
          "base_uri": "https://localhost:8080/"
        },
        "id": "dnOrwtqM-p2B",
        "outputId": "04ebb767-2b13-42a6-d35e-67079fdf4028"
      },
      "execution_count": null,
      "outputs": [
        {
          "output_type": "execute_result",
          "data": {
            "text/plain": [
              "10000"
            ]
          },
          "metadata": {},
          "execution_count": 9
        }
      ]
    },
    {
      "cell_type": "markdown",
      "source": [
        "3.\tPlease show some of train and test labels."
      ],
      "metadata": {
        "id": "GdJxeHOR-0KQ"
      }
    },
    {
      "cell_type": "code",
      "source": [
        "train_labels[:5]"
      ],
      "metadata": {
        "colab": {
          "base_uri": "https://localhost:8080/"
        },
        "id": "tCub4WB5-7rM",
        "outputId": "ad54cd1e-db6a-441d-f71d-ad077c6d54d5"
      },
      "execution_count": null,
      "outputs": [
        {
          "output_type": "execute_result",
          "data": {
            "text/plain": [
              "array([9, 0, 0, 3, 0], dtype=uint8)"
            ]
          },
          "metadata": {},
          "execution_count": 10
        }
      ]
    },
    {
      "cell_type": "code",
      "source": [
        "test_labels[:5]"
      ],
      "metadata": {
        "colab": {
          "base_uri": "https://localhost:8080/"
        },
        "id": "u-tHHjDO_I0V",
        "outputId": "04d7c551-4f62-42f0-f9da-2c33e269813b"
      },
      "execution_count": null,
      "outputs": [
        {
          "output_type": "execute_result",
          "data": {
            "text/plain": [
              "array([9, 2, 1, 1, 6], dtype=uint8)"
            ]
          },
          "metadata": {},
          "execution_count": 11
        }
      ]
    },
    {
      "cell_type": "markdown",
      "source": [
        "4.\tPlease show the digital content of image index 5 in the training dataset."
      ],
      "metadata": {
        "id": "U-_saUgg_ZDR"
      }
    },
    {
      "cell_type": "code",
      "source": [
        "train_images[5]"
      ],
      "metadata": {
        "colab": {
          "base_uri": "https://localhost:8080/"
        },
        "id": "jPQIEder_cFs",
        "outputId": "ff465fb9-f667-4f09-da6a-7b7c60bafc2b"
      },
      "execution_count": null,
      "outputs": [
        {
          "output_type": "execute_result",
          "data": {
            "text/plain": [
              "array([[  0,   0,   0,   0,   1,   0,   0,   0,   0,  22,  88, 188, 172,\n",
              "        132, 125, 141, 199, 143,   9,   0,   0,   0,   1,   0,   0,   0,\n",
              "          0,   0],\n",
              "       [  0,   0,   0,   1,   0,   0,  20, 131, 199, 206, 196, 202, 242,\n",
              "        255, 255, 250, 222, 197, 206, 188, 126,  17,   0,   0,   0,   0,\n",
              "          0,   0],\n",
              "       [  0,   0,   0,   1,   0,  35, 214, 191, 183, 178, 175, 168, 150,\n",
              "        162, 159, 152, 158, 179, 183, 189, 195, 185,  82,   0,   0,   0,\n",
              "          0,   0],\n",
              "       [  0,   0,   0,   0,   0, 170, 190, 172, 177, 176, 171, 169, 162,\n",
              "        155, 148, 154, 169, 174, 175, 175, 177, 183, 188,  12,   0,   0,\n",
              "          0,   0],\n",
              "       [  0,   0,   0,   0,  25, 194, 180, 178, 174, 184, 187, 189, 187,\n",
              "        184, 181, 189, 200, 197, 193, 190, 178, 175, 194,  90,   0,   0,\n",
              "          0,   0],\n",
              "       [  0,   0,   0,   0,  42, 218, 191, 197, 208, 204, 211, 209, 210,\n",
              "        212, 211, 214, 215, 213, 214, 211, 211, 191, 200, 158,   0,   0,\n",
              "          0,   0],\n",
              "       [  0,   0,   0,   0,  88, 221, 215, 217, 219, 211, 185, 150, 118,\n",
              "        107,  99,  88,  83,  90, 135, 212, 203, 207, 219, 169,   0,   0,\n",
              "          0,   0],\n",
              "       [  0,   0,   0,   0,   0,  27, 118, 162,  40,   0,   0,   0,  10,\n",
              "         19,  28,  39,  47,  36,   0,   0, 203, 230, 220, 203,   0,   0,\n",
              "          0,   0],\n",
              "       [  0,   0,   0,   0, 138, 136,  71,  69,  54, 216, 217, 203, 184,\n",
              "        168, 163, 162, 163, 178, 221, 186,  38,  26,   7,   0,   0,   0,\n",
              "          0,   0],\n",
              "       [  0,   0,   0,   0,  67, 134, 154, 224, 129,  66,  81, 117, 129,\n",
              "        128, 132, 137, 131, 129,  86,  73, 157, 151, 134, 216,  18,   0,\n",
              "          0,   0],\n",
              "       [  0,   0,   0,   0, 203, 198, 172, 183, 206, 255, 255, 250, 243,\n",
              "        240, 239, 235, 238, 244, 255, 238, 184, 160,  86,  98,   0,   0,\n",
              "          0,   0],\n",
              "       [  0,   0,   0,   0, 122, 188, 224, 151, 105, 127,  97, 100, 105,\n",
              "        114, 117, 117, 113, 103,  98, 111, 142, 254, 191, 255,  49,   0,\n",
              "          0,   0],\n",
              "       [  0,   0,   0,   0, 163, 179, 200,  95, 154, 198, 197, 200, 200,\n",
              "        198, 197, 198, 199, 202, 200, 176,  86, 206, 157, 162,  10,   0,\n",
              "          0,   0],\n",
              "       [  0,   0,   0,   0, 197, 201, 229,  71, 144, 194, 181, 183, 179,\n",
              "        182, 180, 179, 180, 190, 185, 197,  76, 219, 185, 201,  34,   0,\n",
              "          0,   0],\n",
              "       [  0,   0,   0,   0, 199, 193, 226,  58, 154, 192, 184, 187, 184,\n",
              "        186, 184, 185, 183, 192, 191, 200,  56, 219, 203, 207,  60,   0,\n",
              "          0,   0],\n",
              "       [  0,   0,   0,   0, 201, 194, 224,  41, 163, 190, 186, 186, 184,\n",
              "        185, 183, 185, 178, 190, 194, 202,  33, 211, 200, 206,  73,   0,\n",
              "          0,   0],\n",
              "       [  0,   0,   0,   0, 201, 197, 222,  17, 172, 190, 186, 187, 182,\n",
              "        186, 185, 187, 180, 187, 193, 202,  26, 212, 202, 203,  76,   0,\n",
              "          0,   0],\n",
              "       [  0,   0,   0,   0, 200, 197, 223,   0, 177, 189, 184, 185, 178,\n",
              "        184, 183, 184, 180, 183, 189, 203,  35, 196, 203, 203,  84,   0,\n",
              "          0,   0],\n",
              "       [  0,   0,   0,   0, 200, 197, 223,   0, 185, 187, 185, 187, 180,\n",
              "        184, 182, 183, 178, 182, 183, 205,  44, 159, 207, 201,  85,   0,\n",
              "          0,   0],\n",
              "       [  0,   0,   0,   0, 187, 198, 225,   0, 194, 188, 184, 185, 180,\n",
              "        183, 183, 184, 181, 181, 177, 206,  46, 129, 211, 200,  88,   0,\n",
              "          0,   0],\n",
              "       [  0,   0,   0,   6, 186, 200, 211,   0, 199, 189, 184, 184, 185,\n",
              "        182, 183, 184, 185, 182, 175, 205,  50,  97, 216, 197,  93,   0,\n",
              "          0,   0],\n",
              "       [  0,   0,   0,   5, 185, 204, 184,   0, 202, 188, 182, 182, 183,\n",
              "        183, 184, 182, 180, 182, 174, 202,  63,  59, 220, 196,  94,   0,\n",
              "          0,   0],\n",
              "       [  0,   0,   0,   5, 184, 206, 157,   0, 204, 187, 187, 189, 192,\n",
              "        190, 190, 191, 190, 187, 183, 202,  78,  35, 222, 197,  95,   0,\n",
              "          0,   0],\n",
              "       [  0,   0,   0,   5, 183, 208, 127,   0, 197, 166, 153, 149, 149,\n",
              "        146, 148, 149, 150, 151, 158, 191,  90,   8, 223, 195,  99,   0,\n",
              "          0,   0],\n",
              "       [  0,   0,   0,   6, 184, 208, 114,   0, 204, 173, 161, 180, 176,\n",
              "        172, 173, 173, 174, 176, 162, 202, 115,   0, 229, 199, 105,   0,\n",
              "          0,   0],\n",
              "       [  0,   0,   0,   9, 178, 204, 115,   0, 121, 135, 114, 117, 114,\n",
              "        114, 117, 118, 119, 117, 113, 147,  63,   0, 225, 196, 107,   0,\n",
              "          0,   0],\n",
              "       [  0,   0,   0,  18, 180, 206, 131,   0,   0,   0,   0,   0,   0,\n",
              "          0,   0,   0,   0,   0,   0,   0,   0,   0, 224, 197, 123,   0,\n",
              "          0,   0],\n",
              "       [  0,   0,   0,   0, 141, 151,  76,   0,   1,   1,   0,   0,   0,\n",
              "          0,   0,   0,   0,   0,   0,   0,   0,   0, 133, 167,  73,   0,\n",
              "          0,   0]], dtype=uint8)"
            ]
          },
          "metadata": {},
          "execution_count": 12
        }
      ]
    },
    {
      "cell_type": "markdown",
      "source": [
        "5.\tPlease plot the image of the index 5 in the training dataset."
      ],
      "metadata": {
        "id": "R0m7q-_Y__73"
      }
    },
    {
      "cell_type": "code",
      "source": [
        "plt.imshow(train_images[5], cmap='magma')\n",
        "plt.show()"
      ],
      "metadata": {
        "colab": {
          "base_uri": "https://localhost:8080/",
          "height": 265
        },
        "id": "61Fzm7czAAjI",
        "outputId": "f7451ac4-e1f0-4e76-9456-3fedfd70f933"
      },
      "execution_count": null,
      "outputs": [
        {
          "output_type": "display_data",
          "data": {
            "text/plain": [
              "<Figure size 432x288 with 1 Axes>"
            ],
            "image/png": "[encoded data removed]"
          },
          "metadata": {
            "needs_background": "light"
          }
        }
      ]
    },
    {
      "cell_type": "code",
      "source": [
        "plt.imshow(train_images[5], cmap='gray')\n",
        "plt.show()"
      ],
      "metadata": {
        "colab": {
          "base_uri": "https://localhost:8080/",
          "height": 265
        },
        "id": "PGeYzJeMBiKV",
        "outputId": "a12caf76-681c-4a2d-de70-ac9c6df69872"
      },
      "execution_count": null,
      "outputs": [
        {
          "output_type": "display_data",
          "data": {
            "text/plain": [
              "<Figure size 432x288 with 1 Axes>"
            ],
            "image/png": "[encoded data removed]"
          },
          "metadata": {
            "needs_background": "light"
          }
        }
      ]
    },
    {
      "cell_type": "markdown",
      "source": [
        "6.\tWhat is the label for the index 5 in the train_label and looking up in the above list, what does it mean?"
      ],
      "metadata": {
        "id": "V1VaDqCOBQgW"
      }
    },
    {
      "cell_type": "code",
      "source": [
        "train_labels[5]"
      ],
      "metadata": {
        "colab": {
          "base_uri": "https://localhost:8080/"
        },
        "id": "-GA06EdSAP5Z",
        "outputId": "37adf181-6954-4dd3-ce1c-765d3c994b04"
      },
      "execution_count": null,
      "outputs": [
        {
          "output_type": "execute_result",
          "data": {
            "text/plain": [
              "2"
            ]
          },
          "metadata": {},
          "execution_count": 15
        }
      ]
    },
    {
      "cell_type": "markdown",
      "source": [
        "7.\tPlease show the digital content of image index 500 in the testing dataset."
      ],
      "metadata": {
        "id": "m1TM5zy7CAeH"
      }
    },
    {
      "cell_type": "code",
      "source": [
        "test_images[500]"
      ],
      "metadata": {
        "colab": {
          "base_uri": "https://localhost:8080/"
        },
        "id": "kiBPGwYgCET2",
        "outputId": "b3cfca10-b6f0-4bcc-87c7-1c351db92f50"
      },
      "execution_count": null,
      "outputs": [
        {
          "output_type": "execute_result",
          "data": {
            "text/plain": [
              "array([[  0,   0,   0,   0,   0,   0,   0,   0,   0,   0, 108,  93,  38,\n",
              "          0,   0,   0,   8,  76, 140,  34,   0,   0,   0,   1,   1,   0,\n",
              "          0,   0],\n",
              "       [  0,   0,   0,   0,   0,   0,   0,  30,  92,  69, 192, 183, 149,\n",
              "        214, 177, 194, 227, 154, 206, 143,  79,  46,   0,   0,   0,   0,\n",
              "          0,   0],\n",
              "       [  0,   0,   0,   0,   0,   0,  59, 127, 116,  85,  63, 184, 128,\n",
              "        104,   0,  10, 126, 138, 145,  59, 104, 118,  86,   0,   0,   0,\n",
              "          0,   0],\n",
              "       [  0,   0,   0,   0,   0,   3,  99,  92,  81,  81,  54,  67, 222,\n",
              "        255, 209, 206, 178, 184,  72,  69,  97,  97, 118,  24,   0,   2,\n",
              "          0,   0],\n",
              "       [  0,   0,   1,   1,   0,  60, 121, 138,  83,  64,  76,  68,  23,\n",
              "         35,  55,  52,  46,  36,  65,  72,  72,  76, 102, 110,   0,   0,\n",
              "          0,   0],\n",
              "       [  0,   0,   0,   0,   0, 112,  89,  52,  89,  72,  67,  69,  81,\n",
              "         73,  60,  71,  64,  55,  52,  73,  77,  88, 104, 108,  10,   0,\n",
              "          1,   0],\n",
              "       [  0,   0,   0,   0,  21, 110, 143, 131,  55, 181, 128,  54,  36,\n",
              "        158, 185,  44,  74, 150, 154,  71,  96,  88, 105, 131,  50,   0,\n",
              "          0,   0],\n",
              "       [  0,   0,   2,   0,  52, 139,  90,  99,  77, 187, 134, 238,  68,\n",
              "        203, 127,  31, 158, 165, 191,  73,  95,  83,  86,  91,  85,   0,\n",
              "          0,   0],\n",
              "       [  0,   0,   0,   0,  97, 104, 119, 135,  95, 137, 156, 209, 158,\n",
              "        185,  67,  91, 199, 150, 218, 123,  78, 106,  91, 129, 106,   0,\n",
              "          0,   0],\n",
              "       [  0,   0,   0,   0, 109,  97, 129, 109,  80, 154, 183, 153, 178,\n",
              "        170,  78, 178, 228, 156, 214, 135, 112,  92,  91, 101, 127,   4,\n",
              "          0,   0],\n",
              "       [  0,   0,   0,  10, 125, 102, 120, 146,  99, 189, 238,  76, 139,\n",
              "        111,  63, 238, 172,  48, 249,  91,  79,  79, 146, 110, 111,  35,\n",
              "          0,   0],\n",
              "       [  0,   0,   0,  32, 147,  78, 156, 143,  55, 165, 175,  64, 142,\n",
              "        114,  62, 152, 107,  68, 213,  90, 108, 155, 211,  74, 143,  53,\n",
              "          0,   0],\n",
              "       [  0,   0,   0,  46, 127, 105, 124, 246,  90,  69,  74, 101, 112,\n",
              "         79,  99, 112,  81,  96, 184,  97,  77, 112, 172,  65, 119, 100,\n",
              "          0,   0],\n",
              "       [  0,   0,   0,  87, 143, 107, 112, 213,  70, 116, 230,  83, 154,\n",
              "        146, 150, 223,  65,  93, 196, 121,  89, 146, 193,  92, 108, 105,\n",
              "          0,   0],\n",
              "       [  0,   0,   0,  97, 125, 125, 124, 157,  60, 119, 250,  70, 180,\n",
              "        158, 134, 177, 163, 107, 225,  82,  85, 167, 178,  87, 123, 114,\n",
              "          0,   0],\n",
              "       [  0,   0,   0, 107, 102, 135, 142, 117,  78, 123, 229,  36, 121,\n",
              "        129, 119, 162, 223, 117, 154,  88,  79, 186, 164,  68, 116, 129,\n",
              "         22,   0],\n",
              "       [  0,   0,  14, 116, 107, 133, 154, 124,  71, 156, 193,  85, 181,\n",
              "         92, 121, 167, 194, 185, 119,  78, 101, 138, 163, 105, 118, 101,\n",
              "         27,   0],\n",
              "       [  0,   0,  15, 117, 108, 117, 180, 129,  76, 117, 189, 208, 211,\n",
              "        105, 161, 187, 190, 221,  97,  98, 107,  93, 118, 104, 124, 128,\n",
              "         39,   0],\n",
              "       [  0,   0,  15, 112,  96, 114, 167, 115, 101,  81, 181, 170, 216,\n",
              "        154, 181, 193, 176, 220,  72, 107,  93, 102,  97, 120, 129, 111,\n",
              "         50,   0],\n",
              "       [  0,   0,  23, 129, 110, 121, 178,  80,  85, 109,  70,  63,  76,\n",
              "        108,  92,  60,  68,  65, 105,  90, 116,  91, 105, 102, 105, 110,\n",
              "         40,   0],\n",
              "       [  0,   0,  38, 119, 102, 142, 158,  97, 104, 100, 121, 119, 107,\n",
              "        121, 120,  89,  96, 127, 101,  99, 107,  95, 139, 163,  98, 108,\n",
              "         53,   0],\n",
              "       [  0,   0,  21, 102,  97, 148,  93,  80, 124,  92,  97,  99, 109,\n",
              "        131, 126, 109, 107, 104,  97, 104,  92, 106,  76, 165, 124, 129,\n",
              "         63,   0],\n",
              "       [  0,   0,  39, 106, 111, 130,  72, 104,  85,  96,  97,  96, 104,\n",
              "        129, 116,  88,  96,  99, 101,  90, 116, 106,  44, 147, 127, 106,\n",
              "         42,   0],\n",
              "       [  0,   0,  45, 131, 158,  83,  51, 128,  86, 101, 108, 100, 110,\n",
              "        137, 123,  91,  93, 114, 102, 108, 106, 117,  33, 125, 137, 101,\n",
              "         52,   0],\n",
              "       [  0,   0,  43,  87, 123,  79,  58, 116, 110,  81, 105, 119, 120,\n",
              "        140, 124, 115, 125, 110,  90, 110,  83, 140,   8,  99, 152, 117,\n",
              "         69,   0],\n",
              "       [  0,   0,  49, 121, 155,  51,  42, 116,  95,  97,  95,  93, 108,\n",
              "        147, 117,  83,  90,  89, 104,  97,  93, 131,   0,  67, 153,  95,\n",
              "         57,   0],\n",
              "       [  0,   0,  42,  93, 143,  19,  49, 112,  89, 101, 107,  99, 104,\n",
              "        145, 135,  97, 108, 112,  96,  96,  99, 128,   0,  27, 152,  92,\n",
              "         62,   0],\n",
              "       [  0,   0,  58,  91, 143,  10,  34,  88,  44,  63,  72,  68,  64,\n",
              "         71,  70,  62,  69,  59,  55,  77,  71, 112,   0,  20, 138,  89,\n",
              "         65,   0]], dtype=uint8)"
            ]
          },
          "metadata": {},
          "execution_count": 16
        }
      ]
    },
    {
      "cell_type": "markdown",
      "source": [
        "8.\tPlease plot the image of the index 500 in the testing dataset."
      ],
      "metadata": {
        "id": "w3YnlRujCgH2"
      }
    },
    {
      "cell_type": "code",
      "source": [
        "plt.imshow(test_images[500], cmap='PuBuGn')\n",
        "plt.show()"
      ],
      "metadata": {
        "colab": {
          "base_uri": "https://localhost:8080/",
          "height": 265
        },
        "id": "CJyGhrmYCbIp",
        "outputId": "32449c14-0a41-45f2-a847-c087d12ccffa"
      },
      "execution_count": null,
      "outputs": [
        {
          "output_type": "display_data",
          "data": {
            "text/plain": [
              "<Figure size 432x288 with 1 Axes>"
            ],
            "image/png": "[encoded data removed]"
          },
          "metadata": {
            "needs_background": "light"
          }
        }
      ]
    },
    {
      "cell_type": "code",
      "source": [
        "plt.imshow(test_images[500], cmap='Reds')\n",
        "plt.show()"
      ],
      "metadata": {
        "colab": {
          "base_uri": "https://localhost:8080/",
          "height": 265
        },
        "id": "ErYFZrCnC_BE",
        "outputId": "f0ac7595-4e90-41e7-a66e-3438c3e5301f"
      },
      "execution_count": null,
      "outputs": [
        {
          "output_type": "display_data",
          "data": {
            "text/plain": [
              "<Figure size 432x288 with 1 Axes>"
            ],
            "image/png": "[encoded data removed]"
          },
          "metadata": {
            "needs_background": "light"
          }
        }
      ]
    },
    {
      "cell_type": "markdown",
      "source": [
        "9.\tWhat is the label for the index 500 in the test_label and looking up in the above list, what does it mean?"
      ],
      "metadata": {
        "id": "BlyxX_f3DLGp"
      }
    },
    {
      "cell_type": "code",
      "source": [
        "test_labels[500]"
      ],
      "metadata": {
        "colab": {
          "base_uri": "https://localhost:8080/"
        },
        "id": "y4r311paDJuc",
        "outputId": "42725289-3f16-494b-b5ce-ad07c5d39d7c"
      },
      "execution_count": null,
      "outputs": [
        {
          "output_type": "execute_result",
          "data": {
            "text/plain": [
              "2"
            ]
          },
          "metadata": {},
          "execution_count": 19
        }
      ]
    },
    {
      "cell_type": "markdown",
      "source": [
        "Label index 500 is showing us the image representing a pullover. Which, we mentioned in our list on top of the document. We can confirm that test_image is plotting it correctly."
      ],
      "metadata": {
        "id": "D8akssywDzGW"
      }
    },
    {
      "cell_type": "markdown",
      "source": [
        "10.\tPlease import models and layers from the keras library."
      ],
      "metadata": {
        "id": "WD8P5CY8ESM4"
      }
    },
    {
      "cell_type": "code",
      "source": [
        "from keras import models\n",
        "from keras import layers\n",
        "from tensorflow.keras.utils import normalize\n"
      ],
      "metadata": {
        "id": "URAgz-pqDUYo"
      },
      "execution_count": 107,
      "outputs": []
    },
    {
      "cell_type": "markdown",
      "source": [
        "11.\tDefine a sequential model and call it myNetwork."
      ],
      "metadata": {
        "id": "KAbXy7VAHf_I"
      }
    },
    {
      "cell_type": "code",
      "source": [
        "myNetwork = models.Sequential()"
      ],
      "metadata": {
        "id": "58bZUeTaHiHL"
      },
      "execution_count": 117,
      "outputs": []
    },
    {
      "cell_type": "markdown",
      "source": [
        "12.\tReshape the images from 28x28 to one column with 784 neurons (flattening) (use 2 methods, one from the book and one from the 20-minute video)."
      ],
      "metadata": {
        "id": "EYANdGhsHuvU"
      }
    },
    {
      "cell_type": "code",
      "source": [
        "# Book\n",
        "train_images = train_images.reshape((60000, 28*28))\n",
        "test_images = test_images.reshape((10000, 28*28))"
      ],
      "metadata": {
        "id": "aXfCA814HxlE"
      },
      "execution_count": 91,
      "outputs": []
    },
    {
      "cell_type": "code",
      "source": [
        "# Video\n",
        "myNetwork.add(layers.Flatten())\n",
        "myNetwork.add(layers.Dense(128, activation=\"relu\"))"
      ],
      "metadata": {
        "id": "sjnHp9YpAEa5"
      },
      "execution_count": 118,
      "outputs": []
    },
    {
      "cell_type": "markdown",
      "source": [
        "13.\tAlso, please normalize the image by dividing the image by 255 (use 2 methods, one from the book and one from the 20-minute video)."
      ],
      "metadata": {
        "id": "gI1oYjSBB6SH"
      }
    },
    {
      "cell_type": "code",
      "source": [
        "# Book\n",
        "train_images = train_images.reshape((60000, 28 * 28))\n",
        "train_images = train_images.astype('float32') / 255\n",
        "test_images = test_images.reshape((10000, 28 * 28))\n",
        "test_images = test_images.astype('float32') / 255"
      ],
      "metadata": {
        "id": "tyEKQ5SXB9YF"
      },
      "execution_count": 92,
      "outputs": []
    },
    {
      "cell_type": "code",
      "source": [
        "# Video\n",
        "train_images = normalize(train_images, axis=1)\n",
        "test_images = normalize(test_images, axis=1)"
      ],
      "metadata": {
        "id": "cL3NZPL1DChp"
      },
      "execution_count": 119,
      "outputs": []
    },
    {
      "cell_type": "markdown",
      "source": [
        "14.\tAdd one hidden layer that has 512 neurons, using ‘relu’ activation function."
      ],
      "metadata": {
        "id": "J8FWOlz0GZAn"
      }
    },
    {
      "cell_type": "code",
      "source": [
        "myNetwork.add(layers.Dense(512, activation=\"relu\"))"
      ],
      "metadata": {
        "id": "IIu4zVaYGVRJ"
      },
      "execution_count": 120,
      "outputs": []
    },
    {
      "cell_type": "markdown",
      "source": [
        "15.\tAdd another hidden layer that has 128 neurons, using ‘relu’ activation function."
      ],
      "metadata": {
        "id": "qlruko6-HCYn"
      }
    },
    {
      "cell_type": "code",
      "source": [
        "myNetwork.add(layers.Dense(128, activation=\"relu\"))"
      ],
      "metadata": {
        "id": "FMHO9pLmG2Wy"
      },
      "execution_count": 121,
      "outputs": []
    },
    {
      "cell_type": "markdown",
      "source": [
        "16.\tAdd the last layer as a 10-neuron dense layer that uses the ‘softmax’ as the activation function. Why we use softmax for the last layer? How does it work under the hood?"
      ],
      "metadata": {
        "id": "reGatq7VHFcu"
      }
    },
    {
      "cell_type": "code",
      "source": [
        "myNetwork.add(layers.Dense(10, activation=\"softmax\"))"
      ],
      "metadata": {
        "id": "f6FsBsRLHuLC"
      },
      "execution_count": 122,
      "outputs": []
    },
    {
      "cell_type": "markdown",
      "source": [
        "The reason why Softmax is commonly used as the final layer in deep learning models is because it transforms the output of the previous layer into a probability distribution, which helps the model make confident predictions. Specifically, Softmax maps the raw output values of the previous layer into probabilities by normalizing them so that they all sum to one. This makes it easier to interpret the model's output, as the final prediction is simply the class with the highest probability.\n",
        "\n",
        "\n",
        "\n"
      ],
      "metadata": {
        "id": "FgrcLoQ5IKxl"
      }
    },
    {
      "cell_type": "markdown",
      "source": [
        "17.\tUse the following two settings for the compiler and run them separately and see what the differences are. "
      ],
      "metadata": {
        "id": "WaKwKAELIhE0"
      }
    },
    {
      "cell_type": "markdown",
      "source": [
        "•\tOptimizer -->  adam,  loss --> 'sparse_categorical_crossentropy', metrics --> [‘accuracy’]"
      ],
      "metadata": {
        "id": "FAi9xq1XIgi1"
      }
    },
    {
      "cell_type": "code",
      "source": [
        "myNetwork.compile(optimizer=\"adam\", loss=\"sparse_categorical_crossentropy\", metrics=[\"accuracy\"])"
      ],
      "metadata": {
        "id": "_ROuxygTImMg"
      },
      "execution_count": 123,
      "outputs": []
    },
    {
      "cell_type": "markdown",
      "source": [
        "•\tOptimizer -->  rmsprop,  loss --> 'categorical_crossentropy', metrics --> [‘accuracy’]"
      ],
      "metadata": {
        "id": "7zui8xm2Jhar"
      }
    },
    {
      "cell_type": "code",
      "source": [
        "#myNetwork.compile(optimizer=\"rmsprop\", loss=\"categorical_crossentropy\", metrics=[\"accuracy\"])"
      ],
      "metadata": {
        "id": "pxAnVhptJm1N"
      },
      "execution_count": null,
      "outputs": []
    },
    {
      "cell_type": "markdown",
      "source": [
        "18.\tNow after the compilation, please try to find the pattern using the fit command. The epochs need to be 10 for this example."
      ],
      "metadata": {
        "id": "T7LWQyF4J-Yv"
      }
    },
    {
      "cell_type": "code",
      "source": [
        "myNetwork.fit(train_images, train_labels, epochs=10)"
      ],
      "metadata": {
        "id": "J_MkUGYyJ_bA",
        "colab": {
          "base_uri": "https://localhost:8080/"
        },
        "outputId": "7220e237-630d-46e7-adcf-86a1d8576e3f"
      },
      "execution_count": 124,
      "outputs": [
        {
          "output_type": "stream",
          "name": "stdout",
          "text": [
            "Epoch 1/10\n",
            "1875/1875 [==============================] - 17s 8ms/step - loss: 0.4837 - accuracy: 0.8237\n",
            "Epoch 2/10\n",
            "1875/1875 [==============================] - 16s 9ms/step - loss: 0.3562 - accuracy: 0.8690\n",
            "Epoch 3/10\n",
            "1875/1875 [==============================] - 16s 8ms/step - loss: 0.3236 - accuracy: 0.8788\n",
            "Epoch 4/10\n",
            "1875/1875 [==============================] - 15s 8ms/step - loss: 0.2967 - accuracy: 0.8896\n",
            "Epoch 5/10\n",
            "1875/1875 [==============================] - 18s 10ms/step - loss: 0.2773 - accuracy: 0.8953\n",
            "Epoch 6/10\n",
            "1875/1875 [==============================] - 15s 8ms/step - loss: 0.2600 - accuracy: 0.9018\n",
            "Epoch 7/10\n",
            "1875/1875 [==============================] - 16s 8ms/step - loss: 0.2490 - accuracy: 0.9042\n",
            "Epoch 8/10\n",
            "1875/1875 [==============================] - 19s 10ms/step - loss: 0.2365 - accuracy: 0.9108\n",
            "Epoch 9/10\n",
            "1875/1875 [==============================] - 15s 8ms/step - loss: 0.2249 - accuracy: 0.9134\n",
            "Epoch 10/10\n",
            "1875/1875 [==============================] - 15s 8ms/step - loss: 0.2157 - accuracy: 0.9177\n"
          ]
        },
        {
          "output_type": "execute_result",
          "data": {
            "text/plain": [
              "<keras.callbacks.History at 0x7f030b670310>"
            ]
          },
          "metadata": {},
          "execution_count": 124
        }
      ]
    },
    {
      "cell_type": "markdown",
      "source": [
        "19.\tHow do you compare the fashion_MNIST with what we learned in the class using the MNIST? What can we infer from the differences in the accuracy? What could be the reasons for that?"
      ],
      "metadata": {
        "id": "VMt0hnzQKAzl"
      }
    },
    {
      "cell_type": "code",
      "source": [],
      "metadata": {
        "id": "sMzckgi_KBfY"
      },
      "execution_count": null,
      "outputs": []
    },
    {
      "cell_type": "markdown",
      "source": [
        "20.\tUse the evaluate to calculate the achieved accuracy and loss over the test images and labels. Do we have overfitting? "
      ],
      "metadata": {
        "id": "oC-mtCbGKBru"
      }
    },
    {
      "cell_type": "code",
      "source": [],
      "metadata": {
        "id": "9uExKL9sKDDH"
      },
      "execution_count": null,
      "outputs": []
    }
  ]
}